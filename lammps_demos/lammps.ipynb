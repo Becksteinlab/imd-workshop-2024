{
 "cells": [
  {
   "cell_type": "markdown",
   "metadata": {},
   "source": [
    "Run simulation"
   ]
  },
  {
   "cell_type": "code",
   "execution_count": 1,
   "metadata": {},
   "outputs": [
    {
     "name": "stdout",
     "output_type": "stream",
     "text": [
      "zsh:1: command not found: lmp\n"
     ]
    }
   ],
   "source": [
    "! lmp < lammps_v3.in"
   ]
  },
  {
   "cell_type": "markdown",
   "metadata": {},
   "source": [
    "Analyze stream"
   ]
  },
  {
   "cell_type": "code",
   "execution_count": 3,
   "metadata": {},
   "outputs": [
    {
     "name": "stderr",
     "output_type": "stream",
     "text": [
      "/Users/ljwoods2/miniforge3/envs/lammps-demos/lib/python3.12/site-packages/tqdm/auto.py:21: TqdmWarning: IProgress not found. Please update jupyter and ipywidgets. See https://ipywidgets.readthedocs.io/en/stable/user_install.html\n",
      "  from .autonotebook import tqdm as notebook_tqdm\n"
     ]
    },
    {
     "data": {
      "text/plain": [
       "array([0.08108695, 0.06970932, 0.09123742, ..., 0.0566763 , 0.08996709,\n",
       "       0.05293365])"
      ]
     },
     "execution_count": 3,
     "metadata": {},
     "output_type": "execute_result"
    }
   ],
   "source": [
    "from imdclient.IMDREADER import IMDReader\n",
    "import MDAnalysis as mda\n",
    "from MDAnalysis.analysis.rms import RMSF\n",
    "from MDAnalysis.analysis.rdf import InterRDF\n",
    "import logging\n",
    "\n",
    "\n",
    "import concurrent.futures\n",
    "u = mda.Universe(\"topology_after_min.data\", \"imd://localhost:8888\", atom_style=\"id type x y z\",)\n",
    "g = u.atoms\n",
    "\n",
    "rdf = InterRDF(g, g)\n",
    "rdf._ts = u.trajectory.ts\n",
    "\n",
    "rmsf = RMSF(g)\n",
    "rmsf._ts = u.trajectory.ts\n",
    "\n",
    "rdf._prepare()\n",
    "rmsf._prepare()\n",
    "\n",
    "executor = concurrent.futures.ThreadPoolExecutor()\n",
    "\n",
    "count = 0\n",
    "for ts in u.trajectory:\n",
    "    rdf_frame = executor.submit(rdf._single_frame)\n",
    "\n",
    "    rmsf._frame_index = count\n",
    "    rmsf_frame =executor.submit(rmsf._single_frame)\n",
    "\n",
    "    # Wait for each thread to finish\n",
    "    rdf_frame.result()\n",
    "    rmsf_frame.result()\n",
    "\n",
    "    count += 1\n",
    "\n",
    "rdf.n_frames = count\n",
    "rdf._conclude()\n",
    "\n",
    "rmsf._conclude()\n",
    "\n",
    "rdf.results[\"rdf\"]\n",
    "rmsf.results[\"rmsf\"]\n"
   ]
  }
 ],
 "metadata": {
  "kernelspec": {
   "display_name": "lammps-demos",
   "language": "python",
   "name": "python3"
  },
  "language_info": {
   "codemirror_mode": {
    "name": "ipython",
    "version": 3
   },
   "file_extension": ".py",
   "mimetype": "text/x-python",
   "name": "python",
   "nbconvert_exporter": "python",
   "pygments_lexer": "ipython3",
   "version": "3.12.7"
  }
 },
 "nbformat": 4,
 "nbformat_minor": 2
}
