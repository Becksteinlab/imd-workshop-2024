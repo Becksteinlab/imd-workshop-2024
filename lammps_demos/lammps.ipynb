{
 "cells": [
  {
   "cell_type": "code",
   "execution_count": null,
   "metadata": {},
   "outputs": [],
   "source": []
  },
  {
   "cell_type": "markdown",
   "metadata": {},
   "source": [
    "Setup"
   ]
  },
  {
   "cell_type": "code",
   "execution_count": 38,
   "metadata": {},
   "outputs": [],
   "source": [
    "import docker\n",
    "from pathlib import Path\n",
    "\n",
    "docker_client = docker.from_env()\n",
    "img = docker_client.images.pull(\n",
    "    \"ghcr.io/becksteinlab/streaming-md-docker:main\"\n",
    ")\n",
    "# Run the simulation\n",
    "# sudo apt-get install -y nvidia-container-toolkit\n",
    "container = docker_client.containers.run(\n",
    "            img, \n",
    "            f\"/bin/sh -c 'cd /tmp && lmp < lammps_v3.in'\",\n",
    "            detach=True,\n",
    "            volumes={\"/Users/ljwoods2/workspace/imd-workshop-2024/lammps_demos\": {\"bind\": \"/tmp\", \"mode\": \"rw\"}},\n",
    "            ports={\"8888/tcp\": 8888},\n",
    "            # runtime='nvidia'\n",
    "            remove=True\n",
    "        )"
   ]
  },
  {
   "cell_type": "markdown",
   "metadata": {},
   "source": [
    "Analysis\n",
    "\n",
    "ContainerError: Command '/bin/sh -c 'cd /tmp && lmp < lammps_v3.in'' in image 'ghcr.io/becksteinlab/streaming-md-docker:main' returned non-zero exit status 1: b'bash: cannot set terminal process group (-1): Inappropriate ioctl for device\\nbash: no job control in this shell\\n/bin/sh: lammps_v3.in: No such file or directory\\n'\n",
    "\n"
   ]
  },
  {
   "cell_type": "code",
   "execution_count": 39,
   "metadata": {},
   "outputs": [
    {
     "ename": "AttributeError",
     "evalue": "'int' object has no attribute 'result'",
     "output_type": "error",
     "traceback": [
      "\u001b[0;31m---------------------------------------------------------------------------\u001b[0m",
      "\u001b[0;31mAttributeError\u001b[0m                            Traceback (most recent call last)",
      "Cell \u001b[0;32mIn[39], line 41\u001b[0m\n\u001b[1;32m     39\u001b[0m     \u001b[38;5;66;03m# Wait for each thread to finish\u001b[39;00m\n\u001b[1;32m     40\u001b[0m     rsf_frame\u001b[38;5;241m.\u001b[39mresult()\n\u001b[0;32m---> 41\u001b[0m     \u001b[43mrmsf_frame\u001b[49m\u001b[38;5;241;43m.\u001b[39;49m\u001b[43mresult\u001b[49m()\n\u001b[1;32m     43\u001b[0m     count \u001b[38;5;241m+\u001b[39m\u001b[38;5;241m=\u001b[39m \u001b[38;5;241m1\u001b[39m\n\u001b[1;32m     45\u001b[0m rdf\u001b[38;5;241m.\u001b[39mn_frames \u001b[38;5;241m=\u001b[39m count\n",
      "\u001b[0;31mAttributeError\u001b[0m: 'int' object has no attribute 'result'"
     ]
    }
   ],
   "source": [
    "from imdclient.IMDREADER import IMDReader\n",
    "import MDAnalysis as mda\n",
    "from MDAnalysis.analysis.rms import RMSF\n",
    "from MDAnalysis.analysis.rdf import InterRDF\n",
    "import logging\n",
    "import concurrent.futures\n",
    "\n",
    "logger = logging.getLogger(\"imdclient.IMDClient\")\n",
    "file_handler = logging.FileHandler(\"gromacs_test.log\")\n",
    "formatter = logging.Formatter(\n",
    "    \"%(asctime)s - %(name)s - %(levelname)s - %(message)s\"\n",
    ")\n",
    "file_handler.setFormatter(formatter)\n",
    "logger.addHandler(file_handler)\n",
    "logger.setLevel(logging.DEBUG)\n",
    "\n",
    "\n",
    "u = mda.Universe(\"/Users/ljwoods2/workspace/imd-workshop-2024/lammps_demos/topology_after_min.data\", \"localhost:8888\", atom_style=\"id type x y z\",)\n",
    "g = u.atoms\n",
    "\n",
    "rdf = InterRDF(g, g)\n",
    "rdf._ts = u.trajectory.ts\n",
    "\n",
    "rmsf = RMSF(g)\n",
    "rmsf._ts = u.trajectory.ts\n",
    "\n",
    "rdf._prepare()\n",
    "rmsf._prepare()\n",
    "\n",
    "executor = concurrent.futures.ThreadPoolExecutor()\n",
    "\n",
    "count = 0\n",
    "for ts in u.trajectory:\n",
    "    rsf_frame = executor.submit(rdf._single_frame)\n",
    "\n",
    "    rmsf._frame_index = count\n",
    "    rmsf_frame =executor.submit(rmsf._single_frame)\n",
    "\n",
    "    # Wait for each thread to finish\n",
    "    rsf_frame.result()\n",
    "    rmsf_frame.result()\n",
    "\n",
    "    count += 1\n",
    "\n",
    "rdf.n_frames = count\n",
    "rdf._conclude()\n",
    "\n",
    "rmsf._conclude()\n",
    "\n",
    "rdf.results[\"rdf\"]\n",
    "rmsf.results[\"rmsf\"]\n"
   ]
  }
 ],
 "metadata": {
  "kernelspec": {
   "display_name": "lammps-demos",
   "language": "python",
   "name": "python3"
  },
  "language_info": {
   "codemirror_mode": {
    "name": "ipython",
    "version": 3
   },
   "file_extension": ".py",
   "mimetype": "text/x-python",
   "name": "python",
   "nbconvert_exporter": "python",
   "pygments_lexer": "ipython3",
   "version": "3.12.7"
  }
 },
 "nbformat": 4,
 "nbformat_minor": 2
}
