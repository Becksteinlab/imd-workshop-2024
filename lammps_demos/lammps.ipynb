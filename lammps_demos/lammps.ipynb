{
 "cells": [
  {
   "cell_type": "code",
   "execution_count": null,
   "metadata": {},
   "outputs": [],
   "source": []
  },
  {
   "cell_type": "markdown",
   "metadata": {},
   "source": [
    "Setup"
   ]
  },
  {
   "cell_type": "code",
   "execution_count": 41,
   "metadata": {},
   "outputs": [],
   "source": [
    "import docker\n",
    "from pathlib import Path\n",
    "\n",
    "docker_client = docker.from_env()\n",
    "img = docker_client.images.pull(\n",
    "    \"ghcr.io/becksteinlab/streaming-md-docker:main\"\n",
    ")\n",
    "# Run the simulation\n",
    "# sudo apt-get install -y nvidia-container-toolkit\n",
    "container = docker_client.containers.run(\n",
    "            img, \n",
    "            f\"/bin/sh -c 'cd /tmp && lmp < lammps_v3.in'\",\n",
    "            detach=True,\n",
    "            volumes={\"/Users/ljwoods2/workspace/imd-workshop-2024/lammps_demos\": {\"bind\": \"/tmp\", \"mode\": \"rw\"}},\n",
    "            ports={\"8888/tcp\": 8888},\n",
    "            # runtime='nvidia'\n",
    "            remove=True\n",
    "        )"
   ]
  },
  {
   "cell_type": "markdown",
   "metadata": {},
   "source": [
    "Analysis\n",
    "\n",
    "ContainerError: Command '/bin/sh -c 'cd /tmp && lmp < lammps_v3.in'' in image 'ghcr.io/becksteinlab/streaming-md-docker:main' returned non-zero exit status 1: b'bash: cannot set terminal process group (-1): Inappropriate ioctl for device\\nbash: no job control in this shell\\n/bin/sh: lammps_v3.in: No such file or directory\\n'\n",
    "\n"
   ]
  },
  {
   "cell_type": "code",
   "execution_count": 42,
   "metadata": {},
   "outputs": [
    {
     "data": {
      "text/plain": [
       "array([0.07832845, 0.06785146, 0.08970784, ..., 0.05451041, 0.08909698,\n",
       "       0.05102232])"
      ]
     },
     "execution_count": 42,
     "metadata": {},
     "output_type": "execute_result"
    }
   ],
   "source": [
    "from imdclient.IMDREADER import IMDReader\n",
    "import MDAnalysis as mda\n",
    "from MDAnalysis.analysis.rms import RMSF\n",
    "from MDAnalysis.analysis.rdf import InterRDF\n",
    "import logging\n",
    "\n",
    "\n",
    "logger = logging.getLogger(\"imdclient.IMDClient\")\n",
    "file_handler = logging.FileHandler(\"gromacs_test.log\")\n",
    "formatter = logging.Formatter(\n",
    "    \"%(asctime)s - %(name)s - %(levelname)s - %(message)s\"\n",
    ")\n",
    "file_handler.setFormatter(formatter)\n",
    "logger.addHandler(file_handler)\n",
    "logger.setLevel(logging.DEBUG)\n",
    "\n",
    "\n",
    "import concurrent.futures\n",
    "u = mda.Universe(\"/Users/ljwoods2/workspace/imd-workshop-2024/lammps_demos/topology_after_min.data\", \"localhost:8888\", atom_style=\"id type x y z\",)\n",
    "g = u.atoms\n",
    "\n",
    "rdf = InterRDF(g, g)\n",
    "rdf._ts = u.trajectory.ts\n",
    "\n",
    "rmsf = RMSF(g)\n",
    "rmsf._ts = u.trajectory.ts\n",
    "\n",
    "rdf._prepare()\n",
    "rmsf._prepare()\n",
    "\n",
    "executor = concurrent.futures.ThreadPoolExecutor()\n",
    "\n",
    "count = 0\n",
    "for ts in u.trajectory:\n",
    "    rsf_frame = executor.submit(rdf._single_frame)\n",
    "\n",
    "    rmsf._frame_index = count\n",
    "    rmsf_frame =executor.submit(rmsf._single_frame)\n",
    "\n",
    "    # Wait for each thread to finish\n",
    "    rsf_frame.result()\n",
    "    rmsf_frame.result()\n",
    "\n",
    "    count += 1\n",
    "\n",
    "rdf.n_frames = count\n",
    "rdf._conclude()\n",
    "\n",
    "rmsf._conclude()\n",
    "\n",
    "rdf.results[\"rdf\"]\n",
    "rmsf.results[\"rmsf\"]\n"
   ]
  }
 ],
 "metadata": {
  "kernelspec": {
   "display_name": "lammps-demos",
   "language": "python",
   "name": "python3"
  },
  "language_info": {
   "codemirror_mode": {
    "name": "ipython",
    "version": 3
   },
   "file_extension": ".py",
   "mimetype": "text/x-python",
   "name": "python",
   "nbconvert_exporter": "python",
   "pygments_lexer": "ipython3",
   "version": "3.12.7"
  }
 },
 "nbformat": 4,
 "nbformat_minor": 2
}
