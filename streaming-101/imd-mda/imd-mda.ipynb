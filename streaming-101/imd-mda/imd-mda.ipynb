{
 "cells": [
  {
   "cell_type": "markdown",
   "metadata": {},
   "source": [
    "## IMDClient package architecture\n",
    "\n",
    "## TODO:\n",
    "\n",
    "a context manager?\n",
    "better error messages\n",
    "remove unprofessional log messages\n",
    "add docs for some of the messages (timeout at least)\n",
    "make a nice diagram"
   ]
  },
  {
   "cell_type": "code",
   "execution_count": null,
   "metadata": {},
   "outputs": [],
   "source": [
    "# ./run.sh \n",
    "\n",
    "import imdclient\n",
    "\n",
    "client = imdclient.IMDClient(\"localhost\", 8889, n_atoms=100)\n",
    "\n",
    "info = client.get_imdsessioninfo()\n",
    "## TODO: show what's in dict\n",
    "## design principle: reduce redundancy in data entry\n",
    "\n",
    "client.stop()"
   ]
  },
  {
   "cell_type": "code",
   "execution_count": null,
   "metadata": {},
   "outputs": [],
   "source": [
    "client = imdclient.IMDClient(\"localhost\", 8889, n_atoms=100)\n",
    "\n",
    "## Design principle: simplest possible API so anyone can use it\n",
    "## Even if you hate mdanalysis, you can use this\n",
    "\n",
    "while True:\n",
    "    try:\n",
    "        frame = client.get_imdframe()\n",
    "    except EOFError:\n",
    "        break\n",
    "\n",
    "client.stop()"
   ]
  },
  {
   "cell_type": "markdown",
   "metadata": {},
   "source": [
    "## Options"
   ]
  },
  {
   "cell_type": "code",
   "execution_count": null,
   "metadata": {},
   "outputs": [],
   "source": [
    "client = imdclient.IMDClient(\"localhost\", 8889, n_atoms=100, timeout=10)\n",
    "\n",
    "while True:\n",
    "    try:\n",
    "        ## Add a little wait time widget\n",
    "        frame = client.get_imdframe()\n",
    "    except EOFError:\n",
    "        break\n",
    "\n",
    "client.stop()"
   ]
  },
  {
   "cell_type": "markdown",
   "metadata": {},
   "source": [
    "## The buffer size is optional, pausing is automatic"
   ]
  },
  {
   "cell_type": "code",
   "execution_count": null,
   "metadata": {},
   "outputs": [],
   "source": [
    "# ./run.sh\n",
    "\n",
    "import time\n",
    "import logging\n",
    "\n",
    "logger = logging.getLogger(\"imdclient.IMDClient\")\n",
    "# Modify to use \n",
    "# file_handler = logging.FileHandler(\"gromacs_test.log\")\n",
    "formatter = logging.Formatter(\n",
    "    \"%(asctime)s - %(name)s - %(levelname)s - %(message)s\"\n",
    ")\n",
    "# file_handler.setFormatter(formatter)\n",
    "# logger.addHandler(file_handler)\n",
    "# logger.setLevel(logging.DEBUG)\n",
    "\n",
    "## Show the logs of the client stopping automatically\n",
    "\n",
    "client = imdclient.IMDClient(\"localhost\", 8889, n_atoms=100, buffer_size=100)"
   ]
  },
  {
   "cell_type": "markdown",
   "metadata": {},
   "source": [
    "## Reader wraps client, handles its limitations"
   ]
  },
  {
   "cell_type": "code",
   "execution_count": null,
   "metadata": {},
   "outputs": [],
   "source": [
    "from imdclient.IMDREADER import IMDReader\n",
    "import MDAnalysis as mda\n",
    "\n",
    "u = mda.Universe(top, \"imd://localhost:8889\")\n",
    "\n",
    "for ts in u.trajectory[:]:\n",
    "    pass\n",
    "\n",
    "try:\n",
    "    for ts in u.trajectory[:]:\n",
    "        pass\n",
    "except RuntimeError:\n",
    "    print(\"A stream is not a file!\")"
   ]
  },
  {
   "cell_type": "markdown",
   "metadata": {},
   "source": [
    "## Stepping is allowed, but specifying an end frame isn't"
   ]
  },
  {
   "cell_type": "code",
   "execution_count": 1,
   "metadata": {},
   "outputs": [
    {
     "ename": "NameError",
     "evalue": "name 'top' is not defined",
     "output_type": "error",
     "traceback": [
      "\u001b[0;31m---------------------------------------------------------------------------\u001b[0m",
      "\u001b[0;31mNameError\u001b[0m                                 Traceback (most recent call last)",
      "Cell \u001b[0;32mIn[1], line 4\u001b[0m\n\u001b[1;32m      1\u001b[0m \u001b[38;5;28;01mfrom\u001b[39;00m \u001b[38;5;21;01mimdclient\u001b[39;00m\u001b[38;5;21;01m.\u001b[39;00m\u001b[38;5;21;01mIMDREADER\u001b[39;00m \u001b[38;5;28;01mimport\u001b[39;00m IMDReader\n\u001b[1;32m      2\u001b[0m \u001b[38;5;28;01mimport\u001b[39;00m \u001b[38;5;21;01mMDAnalysis\u001b[39;00m \u001b[38;5;28;01mas\u001b[39;00m \u001b[38;5;21;01mmda\u001b[39;00m\n\u001b[0;32m----> 4\u001b[0m u \u001b[38;5;241m=\u001b[39m mda\u001b[38;5;241m.\u001b[39mUniverse(top, \u001b[38;5;124m\"\u001b[39m\u001b[38;5;124mimd://localhost:8889\u001b[39m\u001b[38;5;124m\"\u001b[39m)\n\u001b[1;32m      6\u001b[0m \u001b[38;5;28;01mfor\u001b[39;00m ts \u001b[38;5;129;01min\u001b[39;00m u\u001b[38;5;241m.\u001b[39mtrajectory[:]:\n\u001b[1;32m      7\u001b[0m     \u001b[38;5;28;01mpass\u001b[39;00m\n",
      "\u001b[0;31mNameError\u001b[0m: name 'top' is not defined"
     ]
    }
   ],
   "source": [
    "from imdclient.IMDREADER import IMDReader\n",
    "import MDAnalysis as mda\n",
    "\n",
    "u = mda.Universe(top, \"imd://localhost:8889\")\n",
    "\n",
    "for ts in u.trajectory[::10]:\n",
    "    pass"
   ]
  },
  {
   "cell_type": "markdown",
   "metadata": {},
   "source": [
    "## The client works out of the box with MDAnalysis analysis classes"
   ]
  },
  {
   "cell_type": "code",
   "execution_count": null,
   "metadata": {},
   "outputs": [],
   "source": [
    "from imdclient.IMDREADER import IMDReader\n",
    "import MDAnalysis as mda\n",
    "from MDAnalysis.analysis.rms import RMSF\n",
    "\n",
    "u = mda.Universe(top, \"imd://localhost:8889\")\n",
    "\n",
    "imd_rmsf = RMSF(u.atoms).run()"
   ]
  },
  {
   "cell_type": "markdown",
   "metadata": {},
   "source": [
    "## Running multiple analysis classes on the same stream\n",
    "\n",
    "We showed you examples earlier that look like this:"
   ]
  },
  {
   "cell_type": "code",
   "execution_count": null,
   "metadata": {},
   "outputs": [],
   "source": []
  },
  {
   "cell_type": "markdown",
   "metadata": {},
   "source": [
    "## But you can also do this:"
   ]
  },
  {
   "cell_type": "code",
   "execution_count": null,
   "metadata": {},
   "outputs": [],
   "source": [
    "from imdclient.IMDREADER import IMDReader\n",
    "import MDAnalysis as mda\n",
    "from MDAnalysis.analysis.rms import RMSF\n",
    "\n",
    "r1 = RMSF(u.atoms)\n",
    "r2 = RMSF(u.atoms)\n",
    "imdclient.StackableAnalysis(u.trajectory, [r1, r2]).run()"
   ]
  }
 ],
 "metadata": {
  "kernelspec": {
   "display_name": "imdclient-test",
   "language": "python",
   "name": "python3"
  },
  "language_info": {
   "codemirror_mode": {
    "name": "ipython",
    "version": 3
   },
   "file_extension": ".py",
   "mimetype": "text/x-python",
   "name": "python",
   "nbconvert_exporter": "python",
   "pygments_lexer": "ipython3",
   "version": "3.12.0"
  }
 },
 "nbformat": 4,
 "nbformat_minor": 2
}
