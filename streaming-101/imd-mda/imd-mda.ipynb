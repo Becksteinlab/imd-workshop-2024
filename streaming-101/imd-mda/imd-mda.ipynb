{
 "cells": [
  {
   "cell_type": "markdown",
   "metadata": {},
   "source": [
    "## IMDClient package architecture\n",
    "\n",
    "## TODO:\n",
    "\n",
    "Make diagrams\n",
    "\n",
    "Finish analysis section\n",
    "Test with RISE https://github.com/jupyterlab-contrib/rise"
   ]
  },
  {
   "cell_type": "code",
   "execution_count": 3,
   "metadata": {},
   "outputs": [
    {
     "name": "stdout",
     "output_type": "stream",
     "text": [
      "IMDSessionInfo(version=3, endianness='<', wrapped_coords=True, energies=False, time=True, box=True, positions=True, velocities=True, forces=True)\n",
      "Simulation integration step: 10\n",
      "Simulation time (fs): 0.01\n",
      "First atom's position (angstroms): [44.03448  29.363623 30.971706]\n"
     ]
    }
   ],
   "source": [
    "import imdclient\n",
    "\n",
    "with imdclient.IMDClient(\"localhost\", 8889, n_atoms=50786) as client:\n",
    "    info = client.get_imdsessioninfo()\n",
    "    print(info)\n",
    "\n",
    "    frame = client.get_imdframe()\n",
    "    print(f\"Simulation integration step: {frame.step}\")\n",
    "    print(f\"Simulation time (fs): {frame.time}\")\n",
    "    print(f\"First atom's position (angstroms): {frame.positions[0]}\")"
   ]
  },
  {
   "cell_type": "markdown",
   "metadata": {},
   "source": [
    "## Iterating through a trajectory"
   ]
  },
  {
   "cell_type": "code",
   "execution_count": null,
   "metadata": {},
   "outputs": [],
   "source": [
    "import imdclient\n",
    "\n",
    "with imdclient.IMDClient(\"localhost\", 8889, n_atoms=50786) as client:\n",
    "    while True:\n",
    "        try:\n",
    "            frame = client.get_imdframe()\n",
    "            # Do something with the frame\n",
    "        except EOFError:\n",
    "            break"
   ]
  },
  {
   "cell_type": "markdown",
   "metadata": {},
   "source": [
    "## Options"
   ]
  },
  {
   "cell_type": "code",
   "execution_count": null,
   "metadata": {},
   "outputs": [],
   "source": [
    "import imdclient\n",
    "\n",
    "client = imdclient.IMDClient(\"localhost\", 8889,\n",
    "                              n_atoms=50786, \n",
    "                              # Wait up to 10 seconds for a simulation frame\n",
    "                              timeout=10,\n",
    "                              # 1 MB\n",
    "                              buffer_size=1024 ** 2)"
   ]
  },
  {
   "cell_type": "markdown",
   "metadata": {},
   "source": [
    "## Software architecture"
   ]
  },
  {
   "cell_type": "markdown",
   "metadata": {},
   "source": [
    "## Automatic pausing and resuming"
   ]
  },
  {
   "cell_type": "code",
   "execution_count": null,
   "metadata": {},
   "outputs": [],
   "source": [
    "import imdclient\n",
    "\n",
    "# 2MB Buffer\n",
    "with imdclient.IMDClient(\"localhost\", 8889, n_atoms=50786, buffer_size=2 * 1024**2) as client:\n",
    "    while True:\n",
    "        try:\n",
    "            frame = client.get_imdframe()\n",
    "        except EOFError:\n",
    "            break"
   ]
  },
  {
   "cell_type": "markdown",
   "metadata": {},
   "source": [
    "## Reader wraps client, handles its limitations\n",
    "\n",
    "A stream can only be read once. This is a limitation of the client. The reader wraps the client and handles this limitation."
   ]
  },
  {
   "cell_type": "code",
   "execution_count": 10,
   "metadata": {},
   "outputs": [
    {
     "name": "stdout",
     "output_type": "stream",
     "text": [
      "A stream is not a file!\n"
     ]
    }
   ],
   "source": [
    "from imdclient.IMD import IMDReader\n",
    "import MDAnalysis as mda\n",
    "\n",
    "u = mda.Universe(\"sample_simulation/imdgroup.gro\", \"imd://localhost:8889\")\n",
    "\n",
    "for ts in u.trajectory[:]:\n",
    "    pass\n",
    "\n",
    "try:\n",
    "    for ts in u.trajectory[:]:\n",
    "        pass\n",
    "except RuntimeError:\n",
    "    print(\"A stream is not a file!\")"
   ]
  },
  {
   "cell_type": "markdown",
   "metadata": {},
   "source": [
    "## API interactions"
   ]
  },
  {
   "cell_type": "markdown",
   "metadata": {},
   "source": [
    "## Stepping is allowed, but specifying an end frame isn't\n",
    "\n",
    "This is allowed\n",
    "```python\n",
    "for ts in u.trajectory[::10]:\n",
    "    pass\n",
    "```\n",
    "\n",
    "This is not\n",
    "```python\n",
    "for ts in u.trajectory[:10]:\n",
    "    pass\n",
    "```\n",
    "\n",
    "The length of the trajectory is not known until it is iterated through.\n",
    "\n",
    "```python\n",
    "# Not allowed!\n",
    "len(u.trajectory)\n",
    "```"
   ]
  },
  {
   "cell_type": "markdown",
   "metadata": {},
   "source": [
    "## The client works out of the box with MDAnalysis analysis classes\n",
    "\n",
    "The analysis class must be able to handle a trajectory without a known length."
   ]
  },
  {
   "cell_type": "code",
   "execution_count": null,
   "metadata": {},
   "outputs": [],
   "source": [
    "from imdclient.IMD import IMDReader\n",
    "import MDAnalysis as mda\n",
    "from MDAnalysis.analysis.rms import RMSF\n",
    "\n",
    "u = mda.Universe(\"sample_simulation/imdgroup.gro\", \"imd://localhost:8889\")\n",
    "\n",
    "imd_rmsf = RMSF(u.atoms).run()\n",
    "\n",
    "print(imd_rmsf.rmsf)"
   ]
  },
  {
   "cell_type": "markdown",
   "metadata": {},
   "source": [
    "## Running multiple analysis classes on the same stream\n",
    "\n",
    "We showed you examples earlier that look like this:"
   ]
  },
  {
   "cell_type": "code",
   "execution_count": null,
   "metadata": {},
   "outputs": [],
   "source": []
  },
  {
   "cell_type": "markdown",
   "metadata": {},
   "source": [
    "## But you can also do this:"
   ]
  },
  {
   "cell_type": "code",
   "execution_count": null,
   "metadata": {},
   "outputs": [],
   "source": [
    "from imdclient.IMDREADER import IMDReader\n",
    "import MDAnalysis as mda\n",
    "from MDAnalysis.analysis.rms import RMSF\n",
    "\n",
    "r1 = RMSF(u.atoms)\n",
    "r2 = RMSF(u.atoms)\n",
    "imdclient.StackableAnalysis(u.trajectory, [r1, r2]).run()"
   ]
  }
 ],
 "metadata": {
  "kernelspec": {
   "display_name": "imdclient-test",
   "language": "python",
   "name": "python3"
  },
  "language_info": {
   "codemirror_mode": {
    "name": "ipython",
    "version": 3
   },
   "file_extension": ".py",
   "mimetype": "text/x-python",
   "name": "python",
   "nbconvert_exporter": "python",
   "pygments_lexer": "ipython3",
   "version": "3.12.0"
  }
 },
 "nbformat": 4,
 "nbformat_minor": 2
}
