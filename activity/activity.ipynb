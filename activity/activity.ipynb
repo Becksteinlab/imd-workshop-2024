{
 "cells": [
  {
   "cell_type": "markdown",
   "metadata": {},
   "source": [
    "## Trajectoryless Analysis Workshop Activity\n",
    "\n",
    "In this notebook, we're running a sample simulation of \n",
    "a protein ([1HEL](https://www.rcsb.org/structure/1hel)) in water and analyzing it with live simulation streaming implemented in GROMACS and MDAnalysis.\n",
    "\n",
    "We'll work up from the most basic IMDClient usage to a complex, live visualization of the simulation,\n",
    "ending with a challenge to implement your own trajectoryless analysis code.\n",
    "\n",
    "### Starting the simulation\n",
    "\n",
    "To run the simulation, first run the following commands in your terminal:\n",
    "```bash\n",
    "cd activity\n",
    "# Preprocess the topology and run the simulation\n",
    "./run.sh\n",
    "```\n",
    "\n",
    "Then, when you see the following line printed to the terminal, \n",
    "you can run your analysis code from this notebook:\n",
    "\n",
    "`IMD: Will wait until I have a connection and IMD_GO orders.`\n",
    "\n",
    "### Stopping the simulation\n",
    "\n",
    "For debugging purposes, you can disconnect from the simulation so that it waits for another connection by using the \"Interrupt\" button in the JupyterLab toolbar above.\n",
    "\n",
    "You can also run CTRL+C in the terminal to stop the simulation entirely.\n",
    "\n",
    "\n"
   ]
  },
  {
   "cell_type": "markdown",
   "metadata": {},
   "source": [
    "### Creating an MDAnalysis Universe and running an analysis loop\n",
    "\n",
    "The core object in MDAnalysis is a [Universe](https://userguide.mdanalysis.org/stable/universe.html),\n",
    "which ties together the topology and trajectory. Using IMDClient, the trajectory argument is replaced\n",
    "with a connection URL to the running simulation.\n",
    "\n",
    "Here, we create a Universe from the simulation topology file, connect to the running simulation,\n",
    "and print some data from the simulation."
   ]
  },
  {
   "cell_type": "code",
   "execution_count": null,
   "metadata": {},
   "outputs": [],
   "source": [
    "from imdclient.IMD import IMDReader\n",
    "import MDAnalysis as mda\n",
    "\n",
    "u = mda.Universe(\"sample_simulation/imdgroup.gro\", \"imd://localhost:8889\")\n",
    "\n",
    "# Get an atom from the topology\n",
    "# Universe -> AtomGroup -> Atom\n",
    "atom = u.atoms[0]\n",
    "print(\"    time [         position         ] [         velocity         ] [           force          ] [            box           ]\")\n",
    "\n",
    "# Analysis loop\n",
    "for ts in u.trajectory:\n",
    "    print(f'{ts.time:8.3f} {atom.position} {atom.velocity} {atom.force} {u.dimensions[0:3]}')"
   ]
  },
  {
   "cell_type": "markdown",
   "metadata": {},
   "source": [
    "### Performing a simple distance calculation\n",
    "\n",
    "Next, we'll calculate the distance between two atoms in the protein:\n",
    "the alpha carbons of the n-terminus (residue 1) and the c-terminus (residue 129).\n",
    "\n",
    "To learn more about MDAnalysis selections, see https://userguide.mdanalysis.org/stable/selections.html."
   ]
  },
  {
   "cell_type": "code",
   "execution_count": null,
   "metadata": {},
   "outputs": [],
   "source": [
    "from imdclient.IMD import IMDReader\n",
    "import MDAnalysis as mda\n",
    "import numpy as np\n",
    "\n",
    "u = mda.Universe(\"sample_simulation/imdgroup.gro\", \"imd://localhost:8889\", buffer_size=10*1024**2)\n",
    "\n",
    "# Universe -> AtomGroup -> Atom\n",
    "nter = u.select_atoms(\"resid 1 and name CA\").atoms[0]\n",
    "cter = u.select_atoms(\"resid 129 and name CA\").atoms[0]\n",
    "\n",
    "for ts in u.trajectory:\n",
    "    distance = np.sqrt(np.sum((nter.position - cter.position) ** 2))\n",
    "    print(f'At time {ts.time:4.3f} fs, the n-terminus and c-terminus are {distance:4.3f} angrstroms apart', end='\\r')"
   ]
  },
  {
   "cell_type": "markdown",
   "metadata": {},
   "source": [
    "## Live visualization of an analysis\n",
    "\n",
    "Finally, we'll use matplot to create a live visualization of the distance between the two atoms."
   ]
  },
  {
   "cell_type": "code",
   "execution_count": null,
   "metadata": {},
   "outputs": [],
   "source": [
    "from imdclient.IMD import IMDReader\n",
    "import numpy as np\n",
    "import MDAnalysis as mda\n",
    "from graph_utils import LiveTimeseriesGraph\n",
    "\n",
    "u = mda.Universe(\"sample_simulation/imdgroup.gro\", \"imd://localhost:8889\", buffer_size=10*1024**2)\n",
    "\n",
    "nter = u.select_atoms(\"resid 1 and name CA\").atoms[0]\n",
    "cter = u.select_atoms(\"resid 129 and name CA\").atoms[0]\n",
    "\n",
    "graph = LiveTimeseriesGraph(\n",
    "    time_window=1.0, # ps\n",
    "    dt=0.010, # ps\n",
    "    title='Distance vs. Time',\n",
    "    y_label='Distance (Å)',\n",
    "    legend_label='Nter-Cter',\n",
    ")\n",
    "    \n",
    "for ts in u.trajectory:\n",
    "    distance = np.sqrt(np.sum((nter.position - cter.position) ** 2))\n",
    "    graph.update(ts.time, distance)\n",
    "\n",
    "\n"
   ]
  },
  {
   "cell_type": "markdown",
   "metadata": {},
   "source": [
    "## Writing trajectories to disk\n",
    "\n",
    "Using IMDv3, it's easy to write a subselection of the trajectory to disk using MDAnalysis selections on the topology. In this example, we write the trajectory of the protein (without the water) to disk."
   ]
  },
  {
   "cell_type": "code",
   "execution_count": 3,
   "metadata": {},
   "outputs": [],
   "source": [
    "from imdclient.IMD import IMDReader\n",
    "import MDAnalysis as mda\n",
    "\n",
    "u = mda.Universe(\"sample_simulation/imdgroup.gro\", \"imd://localhost:8889\", buffer_size=10*1024**2)\n",
    "sel = u.select_atoms(\"not resname SOL\")\n",
    "\n",
    "with mda.Writer(\"sample_simulation/protein.trr\", sel.atoms.n_atoms) as w:\n",
    "    for ts in u.trajectory:\n",
    "        w.write(sel.atoms)\n"
   ]
  },
  {
   "cell_type": "markdown",
   "metadata": {},
   "source": [
    "## Challenge 1\n",
    "\n",
    "Your first challenge is to implement a new analysis function that calculates the number of water molecules within 4 angstroms of the protein during each timestep.\n",
    "\n",
    "Bonus points if you can create a live visualization of this data!\n",
    "\n",
    "*Hint*: \n",
    "\n",
    "All water molecules in the simulation can be selected like this:\n",
    "```python\n",
    "u.select_atoms('resname SOL')\n",
    "```\n",
    "For more advanced selection tips, see the [MDAnalysis documentation](https://userguide.mdanalysis.org/stable/selections.html)."
   ]
  },
  {
   "cell_type": "code",
   "execution_count": null,
   "metadata": {},
   "outputs": [],
   "source": [
    "from imdclient.IMD import IMDReader\n",
    "import numpy as np\n",
    "import MDAnalysis as mda\n",
    "from graph_utils import LiveTimeseriesGraph\n",
    "\n",
    "u = mda.Universe(\"sample_simulation/imdgroup.gro\", \"imd://localhost:8889\")\n",
    "\n",
    "for ts in u.trajectory:\n",
    "    ## Your analysis code here"
   ]
  }
 ],
 "metadata": {
  "kernelspec": {
   "display_name": "imdclient-test",
   "language": "python",
   "name": "python3"
  },
  "language_info": {
   "codemirror_mode": {
    "name": "ipython",
    "version": 3
   },
   "file_extension": ".py",
   "mimetype": "text/x-python",
   "name": "python",
   "nbconvert_exporter": "python",
   "pygments_lexer": "ipython3",
   "version": "3.12.0"
  }
 },
 "nbformat": 4,
 "nbformat_minor": 2
}
